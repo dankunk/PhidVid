{
 "cells": [
  {
   "cell_type": "markdown",
   "id": "5d2fe231",
   "metadata": {},
   "source": []
  },
  {
   "cell_type": "code",
   "execution_count": null,
   "id": "7035e98b",
   "metadata": {},
   "outputs": [],
   "source": [
    "%matplotlib widget\n",
    "import cv2\n",
    "import matplotlib.pyplot as plt\n",
    "from matplotlib.widgets import RectangleSelector\n",
    "\n",
    "# Use a test image or load your frame if available\n",
    "img = cv2.imread(\"test_image.jpg\")  # Replace with a valid image file or use your frame\n",
    "if img is None:\n",
    "    # Create a dummy image if file not found\n",
    "    import numpy as np\n",
    "    img = np.ones((500, 500, 3), dtype=\"uint8\") * 200\n",
    "img_rgb = cv2.cvtColor(img, cv2.COLOR_BGR2RGB)\n",
    "\n",
    "crop_coords = {}\n",
    "\n",
    "def onselect(eclick, erelease):\n",
    "    x1, y1 = int(eclick.xdata), int(eclick.ydata)\n",
    "    x2, y2 = int(erelease.xdata), int(erelease.ydata)\n",
    "    crop_coords[\"x\"] = min(x1, x2)\n",
    "    crop_coords[\"y\"] = min(y1, y2)\n",
    "    crop_coords[\"w\"] = abs(x2 - x1)\n",
    "    crop_coords[\"h\"] = abs(y2 - y1)\n",
    "    print(f\"Selected box: x={crop_coords['x']}, y={crop_coords['y']}, w={crop_coords['w']}, h={crop_coords['h']}\")\n",
    "\n",
    "fig, ax = plt.subplots(figsize=(8, 8))\n",
    "ax.imshow(img_rgb)\n",
    "ax.set_title(\"Draw a rectangle to crop (click and drag)\")\n",
    "\n",
    "rs = RectangleSelector(ax, onselect, useblit=True,\n",
    "                       button=[1], minspanx=5, minspany=5, spancoords='pixels',\n",
    "                       interactive=True)\n",
    "\n",
    "plt.show()\n"
   ]
  },
  {
   "cell_type": "markdown",
   "id": "259b8615",
   "metadata": {},
   "source": [
    "# Functional code"
   ]
  },
  {
   "cell_type": "code",
   "execution_count": null,
   "id": "71a81e4b",
   "metadata": {},
   "outputs": [],
   "source": [
    "%matplotlib widget\n",
    "import cv2\n",
    "import matplotlib.pyplot as plt\n",
    "from matplotlib.widgets import RectangleSelector\n",
    "\n",
    "# === 1. Load first frame ===\n",
    "video_path = \"..\\\\NIFA_PROJECT\\\\Obj2\\\\videos\\\\training_data_mixed_aphids\\\\Camera0_20250329\\\\Camera0_20250328_161310_216000-431999.mp4\"\n",
    "cap = cv2.VideoCapture(video_path)\n",
    "ret, frame = cap.read()\n",
    "cap.release()\n",
    "\n",
    "if not ret:\n",
    "    raise ValueError(\"Couldn't read the video\")\n",
    "\n",
    "# Convert BGR (OpenCV) to RGB (Matplotlib)\n",
    "frame_rgb = cv2.cvtColor(frame, cv2.COLOR_BGR2RGB)\n",
    "\n",
    "# === 2. Interactive box selection ===\n",
    "crop_coords = {}\n",
    "\n",
    "def onselect(eclick, erelease):\n",
    "    x1, y1 = int(eclick.xdata), int(eclick.ydata)\n",
    "    x2, y2 = int(erelease.xdata), int(erelease.ydata)\n",
    "    crop_coords[\"x\"] = min(x1, x2)\n",
    "    crop_coords[\"y\"] = min(y1, y2)\n",
    "    crop_coords[\"w\"] = abs(x2 - x1)\n",
    "    crop_coords[\"h\"] = abs(y2 - y1)\n",
    "    print(f\"Selected box: x={crop_coords['x']}, y={crop_coords['y']}, w={crop_coords['w']}, h={crop_coords['h']}\")\n",
    "\n",
    "fig, ax = plt.subplots(figsize=(10, 10))\n",
    "ax.imshow(frame_rgb)\n",
    "ax.set_title(\"Draw a rectangle to crop (click and drag)\")\n",
    "\n",
    "rs = RectangleSelector(ax, onselect, useblit=True,\n",
    "                       button=[1], minspanx=5, minspany=5, spancoords='pixels',\n",
    "                       interactive=True)\n",
    "\n",
    "plt.show()\n"
   ]
  },
  {
   "cell_type": "code",
   "execution_count": 9,
   "id": "a2249555",
   "metadata": {},
   "outputs": [
    {
     "data": {
      "text/plain": [
       "'Selected box: w=291, h=291, x=678, y=1081, 291:291:678:1081'"
      ]
     },
     "metadata": {},
     "output_type": "display_data"
    }
   ],
   "source": [
    "%matplotlib widget\n",
    "import cv2\n",
    "import matplotlib.pyplot as plt\n",
    "from matplotlib.widgets import RectangleSelector\n",
    "from IPython.display import clear_output, display\n",
    "\n",
    "# Load first frame\n",
    "video_path = \"..\\\\NIFA_PROJECT\\\\Obj2\\\\videos\\\\training_data_mixed_aphids\\\\Camera0_20250329\\\\Camera0_20250328_161310_216000-431999.mp4\"\n",
    "cap = cv2.VideoCapture(video_path)\n",
    "ret, frame = cap.read()\n",
    "cap.release()\n",
    "\n",
    "if not ret:\n",
    "    raise ValueError(\"Couldn't read the video\")\n",
    "\n",
    "frame_rgb = cv2.cvtColor(frame, cv2.COLOR_BGR2RGB)\n",
    "\n",
    "crop_coords = {}\n",
    "\n",
    "def onselect(eclick, erelease):\n",
    "    x1, y1 = int(eclick.xdata), int(eclick.ydata)\n",
    "    x2, y2 = int(erelease.xdata), int(erelease.ydata)\n",
    "    crop_coords[\"x\"] = min(x1, x2)\n",
    "    crop_coords[\"y\"] = min(y1, y2)\n",
    "    crop_coords[\"w\"] = abs(x2 - x1)\n",
    "    crop_coords[\"h\"] = abs(y2 - y1)\n",
    "    clear_output(wait=True)\n",
    "    display(f\"Selected box: w={crop_coords['w']}, h={crop_coords['h']}, x={crop_coords['x']}, y={crop_coords['y']}, {crop_coords['w']}:{crop_coords['h']}:{crop_coords['x']}:{crop_coords['y']}\")\n",
    "\n",
    "fig, ax = plt.subplots(figsize=(10, 10))\n",
    "ax.imshow(frame_rgb)\n",
    "ax.set_title(\"Draw rectangle to crop (click and drag)\")\n",
    "\n",
    "rs = RectangleSelector(ax, onselect, useblit=True,\n",
    "                       button=[1], minspanx=5, minspany=5,\n",
    "                       spancoords='pixels', interactive=True)\n",
    "\n",
    "plt.show()\n"
   ]
  }
 ],
 "metadata": {
  "kernelspec": {
   "display_name": "phidvid",
   "language": "python",
   "name": "python3"
  },
  "language_info": {
   "codemirror_mode": {
    "name": "ipython",
    "version": 3
   },
   "file_extension": ".py",
   "mimetype": "text/x-python",
   "name": "python",
   "nbconvert_exporter": "python",
   "pygments_lexer": "ipython3",
   "version": "3.10.16"
  }
 },
 "nbformat": 4,
 "nbformat_minor": 5
}
